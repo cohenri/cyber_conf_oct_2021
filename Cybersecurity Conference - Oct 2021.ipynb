{
 "cells": [
  {
   "cell_type": "markdown",
   "metadata": {},
   "source": [
    "<h1>Cybersecurity Conference - Oct 2021</h1>"
   ]
  },
  {
   "cell_type": "code",
   "execution_count": null,
   "metadata": {},
   "outputs": [],
   "source": [
    "# Initial Examples"
   ]
  },
  {
   "cell_type": "code",
   "execution_count": null,
   "metadata": {},
   "outputs": [],
   "source": []
  },
  {
   "cell_type": "markdown",
   "metadata": {},
   "source": [
    "<h1>Scenario for Cyber Investigation</h1>"
   ]
  },
  {
   "cell_type": "markdown",
   "metadata": {},
   "source": [
    "<ol>\n",
    "<li>You just obtained a job working as a Cybersecurity analyst for 'ABC' Corporation.<br>\n",
    "The company has over 5000 employees and they sometimes find staff that are a cyber risk.<br>\n",
    "<br>    \n",
    "<li>The corporate Investigations Department has asked you to review the email inbox file <br> \n",
    "of an employee who may be receiiving email from users and internet domains that have nothing<br> \n",
    "to do with their current position and responsibilities.<br>\n",
    "<br>    \n",
    "<li>The email inbox file is very large - and the Investigations Department<br>\n",
    "can not do it manually.  You are asked to scan through the email file and pull out all<br>\n",
    "the email addresses that this employee has had contact with.\n",
    "</ol>"
   ]
  },
  {
   "cell_type": "markdown",
   "metadata": {},
   "source": [
    "<h3>Search for lines that contain 'From' in data (email log) using Regular Expressions</h3>"
   ]
  },
  {
   "cell_type": "code",
   "execution_count": null,
   "metadata": {},
   "outputs": [],
   "source": [
    "#  Search  for  lines  that  contain  ’From’\n",
    "#  Initial code and data from:  http://www.py4e.com/code3/re01.py\n",
    "#  Modified to run in Notebook for 2021 Cyber conf environment\n",
    "import  re\n",
    "\n",
    "count = 0\n",
    "\n",
    "fhandle  =  open('email_log_small.txt')\n",
    "#fhandle = open('email_log.txt')\n",
    "for  line  in  fhandle:\n",
    "    line  =  line.rstrip()\n",
    "    if  re.search('From:',  line): \n",
    "        print(line)\n",
    "        count = count + 1\n",
    "print('The count of From: lines is: ', count)\n"
   ]
  },
  {
   "cell_type": "markdown",
   "metadata": {},
   "source": [
    "<h3>Search for lines that contain 'From' and have an '@' in data (email log)</h3>"
   ]
  },
  {
   "cell_type": "code",
   "execution_count": null,
   "metadata": {},
   "outputs": [],
   "source": [
    "# Search for lines that start with From and have an at sign\n",
    "import re\n",
    "\n",
    "count = 0\n",
    "\n",
    "fhandle = open('email_log_small.txt')\n",
    "for line in fhandle:\n",
    "    line = line.rstrip()\n",
    "    if re.search('^From:.+@', line):\n",
    "        print(line)\n",
    "        count = count + 1\n",
    "print('The count of From: lines is: ', count)\n",
    "\n",
    "# the .+ wildcard expands the search to match all the characters between the colon character and '@'\n"
   ]
  },
  {
   "cell_type": "markdown",
   "metadata": {},
   "source": [
    "<h3>Now let's get a count of 'multiples' of the same email address (using a dictionary)</h3>"
   ]
  },
  {
   "cell_type": "code",
   "execution_count": null,
   "metadata": {},
   "outputs": [],
   "source": [
    "# Search for lines that start with From and have an at sign\n",
    "import re\n",
    "\n",
    "count = 0\n",
    "email_addr_dict = dict()\n",
    "\n",
    "fhandle = open('email_log_small.txt')\n",
    "for line in fhandle:\n",
    "    line = line.rstrip()\n",
    "\n",
    "    if re.search('^From:.+@', line):\n",
    "        email_addr = line[6:]\n",
    "        #print(email_addr)\n",
    "        count = count + 1\n",
    "\n",
    "        if email_addr not in email_addr_dict:\n",
    "            email_addr_dict[email_addr] = 1\n",
    "        else:\n",
    "            email_addr_dict[email_addr] = email_addr_dict[email_addr] + 1\n",
    "\n",
    "print(email_addr_dict)\n",
    "print('The count of From: lines is: ', count)\n",
    "\n",
    "# the .+ wildcard expands the search to match all the characters between the colon character and '@'\n"
   ]
  },
  {
   "cell_type": "markdown",
   "metadata": {},
   "source": [
    "<h3>Now improve output format (using a list)</h3>"
   ]
  },
  {
   "cell_type": "code",
   "execution_count": null,
   "metadata": {
    "scrolled": true
   },
   "outputs": [],
   "source": [
    "# depends on prior step running successfully\n",
    "counts = email_addr_dict\n",
    "\n",
    "lst = list(counts.keys())\n",
    "#print(lst)\n",
    "\n",
    "lst.sort()\n",
    "\n",
    "for key in lst:\n",
    "      print(counts[key], '  ', key)\n"
   ]
  },
  {
   "cell_type": "markdown",
   "metadata": {},
   "source": [
    "<h3>Finally, run on large email log file</h3>"
   ]
  },
  {
   "cell_type": "code",
   "execution_count": null,
   "metadata": {},
   "outputs": [],
   "source": [
    "# Search for lines that start with From and have an at sign\n",
    "import re\n",
    "\n",
    "count = 0\n",
    "email_addr_dict = dict()\n",
    "\n",
    "fhandle = open('email_log.txt')\n",
    "#fhandle = open('email_log_small.txt')\n",
    "for line in fhandle:\n",
    "    line = line.rstrip()\n",
    "\n",
    "    if re.search('^From:.+@', line):\n",
    "        email_addr = line[6:]\n",
    "        #print(email_addr)\n",
    "        count = count + 1\n",
    "\n",
    "        if email_addr not in email_addr_dict:\n",
    "            email_addr_dict[email_addr] = 1\n",
    "        else:\n",
    "            email_addr_dict[email_addr] = email_addr_dict[email_addr] + 1\n",
    "\n",
    "#print(email_addr_dict)\n",
    "print('The count of From: lines is: ', count)\n",
    "print('\\n\\r')\n",
    "\n",
    "# the .+ wildcard expands the search to match all the characters between the colon character and '@'\n",
    "\n",
    "counts = email_addr_dict\n",
    "\n",
    "lst = list(counts.keys())\n",
    "#print(lst)\n",
    "\n",
    "lst.sort()\n",
    "\n",
    "for key in lst:\n",
    "      print(counts[key], '  ', key)\n",
    "\n"
   ]
  },
  {
   "cell_type": "code",
   "execution_count": null,
   "metadata": {},
   "outputs": [],
   "source": []
  }
 ],
 "metadata": {
  "kernelspec": {
   "display_name": "Python 3",
   "language": "python",
   "name": "python3"
  },
  "language_info": {
   "codemirror_mode": {
    "name": "ipython",
    "version": 3
   },
   "file_extension": ".py",
   "mimetype": "text/x-python",
   "name": "python",
   "nbconvert_exporter": "python",
   "pygments_lexer": "ipython3",
   "version": "3.8.0"
  }
 },
 "nbformat": 4,
 "nbformat_minor": 4
}
